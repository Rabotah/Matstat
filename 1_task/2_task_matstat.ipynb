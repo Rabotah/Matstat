{
 "cells": [
  {
   "cell_type": "code",
   "execution_count": 80,
   "metadata": {},
   "outputs": [],
   "source": [
    "import numpy as np\n",
    "import matplotlib.pyplot as plt"
   ]
  },
  {
   "cell_type": "markdown",
   "metadata": {},
   "source": [
    "### выборка"
   ]
  },
  {
   "cell_type": "code",
   "execution_count": 103,
   "metadata": {},
   "outputs": [
    {
     "data": {
      "text/plain": [
       "array([1.538, 0.223, 0.722, 0.898, 0.048, 0.935, 0.187, 0.067, 2.974,\n",
       "       3.371, 1.652, 0.363, 0.103, 1.153, 0.58 , 0.13 , 0.684, 0.035,\n",
       "       2.4  , 0.299, 1.086, 0.374, 0.734, 0.791, 0.204])"
      ]
     },
     "execution_count": 103,
     "metadata": {},
     "output_type": "execute_result"
    }
   ],
   "source": [
    "N = 25\n",
    "np.random.seed(42)\n",
    "X = np.random.sample(25)\n",
    "X = np.around(np.array(np.random.exponential(1, size = N)), 3)\n",
    "X                         "
   ]
  },
  {
   "cell_type": "markdown",
   "metadata": {},
   "source": [
    "### вариационный ряд"
   ]
  },
  {
   "cell_type": "code",
   "execution_count": 104,
   "metadata": {},
   "outputs": [
    {
     "data": {
      "text/plain": [
       "array([0.035, 0.048, 0.067, 0.103, 0.13 , 0.187, 0.204, 0.223, 0.299,\n",
       "       0.363, 0.374, 0.58 , 0.684, 0.722, 0.734, 0.791, 0.898, 0.935,\n",
       "       1.086, 1.153, 1.538, 1.652, 2.4  , 2.974, 3.371])"
      ]
     },
     "execution_count": 104,
     "metadata": {},
     "output_type": "execute_result"
    }
   ],
   "source": [
    "X1 = np.sort(X)\n",
    "X1"
   ]
  },
  {
   "cell_type": "markdown",
   "metadata": {},
   "source": [
    "### мода, медиана, размах"
   ]
  },
  {
   "cell_type": "code",
   "execution_count": 105,
   "metadata": {},
   "outputs": [
    {
     "name": "stdout",
     "output_type": "stream",
     "text": [
      "размах =  3.336\n",
      "медиана =  0.722\n",
      "мода =  [0.035 0.048 0.067 0.103 0.13  0.187 0.204 0.223 0.299 0.363 0.374 0.58\n",
      " 0.684 0.722 0.734 0.791 0.898 0.935 1.086 1.153 1.538 1.652 2.4   2.974\n",
      " 3.371]\n"
     ]
    }
   ],
   "source": [
    "print('размах = ',  X1[N-1] - X1[0])\n",
    "print('медиана = ',  X1[13])\n",
    "print('мода = ',  X1)"
   ]
  },
  {
   "cell_type": "markdown",
   "metadata": {},
   "source": [
    "### Эмпирическая функция"
   ]
  },
  {
   "cell_type": "code",
   "execution_count": 106,
   "metadata": {},
   "outputs": [
    {
     "data": {
      "image/png": "[encoded data removed]",
      "text/plain": [
       "<Figure size 1080x360 with 1 Axes>"
      ]
     },
     "metadata": {
      "needs_background": "light"
     },
     "output_type": "display_data"
    }
   ],
   "source": [
    "fig, ax = plt.subplots(figsize = (15, 5))\n",
    "plt.plot([X1[0]-0.1, X1[0]], [0, 0], color = \"violet\")\n",
    "for i in range(N-1):\n",
    "    plt.plot(X1[i:i+2], [(i + 1) / N]*2, color = \"violet\")\n",
    "plt.plot([X1[-1], X1[-1] + 0.1], [1,1], color = \"violet\")\n",
    "plt.scatter(X1, [i / N for i in range(1, 26)], color = 'violet')\n",
    "plt.show()"
   ]
  },
  {
   "cell_type": "markdown",
   "metadata": {},
   "source": [
    "###  Гистограмма"
   ]
  },
  {
   "cell_type": "code",
   "execution_count": 107,
   "metadata": {},
   "outputs": [
    {
     "data": {
      "text/plain": [
       "[[0.7793764988009593,\n",
       "  0.419664268585132,\n",
       "  0.11990407673860912,\n",
       "  0.05995203836930454,\n",
       "  0.11990407673860916],\n",
       " array([0.035 , 0.7022, 1.3694, 2.0366, 2.7038, 3.371 ])]"
      ]
     },
     "execution_count": 107,
     "metadata": {},
     "output_type": "execute_result"
    }
   ],
   "source": [
    "k = 5\n",
    "h = list(np.histogram(X1, bins = k))\n",
    "h[0] = h[0]/N\n",
    "h[0] = [h[0][i]/(h[1][i+1]-h[1][i]) for i in range (len(h[0]))]\n",
    "h"
   ]
  },
  {
   "cell_type": "code",
   "execution_count": 108,
   "metadata": {},
   "outputs": [
    {
     "data": {
      "image/png": "[encoded data removed]",
      "text/plain": [
       "<Figure size 432x288 with 1 Axes>"
      ]
     },
     "metadata": {
      "needs_background": "light"
     },
     "output_type": "display_data"
    }
   ],
   "source": [
    "fig, ax = plt.subplots()\n",
    "plt.hist(h[1][:-1], h[1], weights=h[0])\n",
    "None"
   ]
  },
  {
   "cell_type": "markdown",
   "metadata": {},
   "source": [
    "### Boxplot"
   ]
  },
  {
   "cell_type": "code",
   "execution_count": 109,
   "metadata": {},
   "outputs": [
    {
     "data": {
      "image/png": "[encoded data removed]",
      "text/plain": [
       "<Figure size 432x288 with 1 Axes>"
      ]
     },
     "metadata": {
      "needs_background": "light"
     },
     "output_type": "display_data"
    }
   ],
   "source": [
    "plt.boxplot(X1, vert = False)\n",
    "None"
   ]
  },
  {
   "cell_type": "markdown",
   "metadata": {},
   "source": [
    "### ЯОП"
   ]
  },
  {
   "cell_type": "code",
   "execution_count": 110,
   "metadata": {},
   "outputs": [
    {
     "data": {
      "text/plain": [
       "1.8211338223748013"
      ]
     },
     "execution_count": 110,
     "metadata": {},
     "output_type": "execute_result"
    }
   ],
   "source": [
    "h = 2.344/3*np.sqrt(np.sum((X-1/N*np.sum(X))**2))/(N**0.2)\n",
    "h"
   ]
  },
  {
   "cell_type": "code",
   "execution_count": 111,
   "metadata": {},
   "outputs": [
    {
     "data": {
      "text/plain": [
       "[<matplotlib.lines.Line2D at 0x298b419ee50>]"
      ]
     },
     "execution_count": 111,
     "metadata": {},
     "output_type": "execute_result"
    },
    {
     "data": {
      "image/png": "[encoded data removed]",
      "text/plain": [
       "<Figure size 432x288 with 1 Axes>"
      ]
     },
     "metadata": {
      "needs_background": "light"
     },
     "output_type": "display_data"
    }
   ],
   "source": [
    "def q(z):\n",
    "    return 0.75*(1 - z**2)\n",
    "def p(z):\n",
    "    return 1/(25*h)*np.sum([(q((z - i)/h) if q((z - i)/h) > 0 else 0) for i in X])\n",
    "x = np.linspace(X1[0], X1[-1], 25)\n",
    "plt.plot(x, [p(i) for i in x])"
   ]
  },
  {
   "cell_type": "markdown",
   "metadata": {},
   "source": [
    "### Плотность распределения ср. арифм."
   ]
  },
  {
   "cell_type": "code",
   "execution_count": 112,
   "metadata": {},
   "outputs": [],
   "source": [
    "from scipy.stats import moment\n",
    "def gaus(x):\n",
    "    return 1/np.sqrt(2*np.pi*moment(X1, 2)/N)*np.exp(-0.5*(x-(sum(X1)/N))**2/moment(X1, 2)*N)"
   ]
  },
  {
   "cell_type": "code",
   "execution_count": 113,
   "metadata": {},
   "outputs": [],
   "source": [
    "from random import choice\n",
    "def bootstrap(X, func):\n",
    "    M = np.array([])\n",
    "    for i in range(1000):\n",
    "        x = np.random.choice(X, size = len(X))\n",
    "        M = np.append(M, func(x))\n",
    "    return M  "
   ]
  },
  {
   "cell_type": "code",
   "execution_count": 114,
   "metadata": {},
   "outputs": [
    {
     "data": {
      "image/png": "[encoded data removed]",
      "text/plain": [
       "<Figure size 720x360 with 1 Axes>"
      ]
     },
     "metadata": {
      "needs_background": "light"
     },
     "output_type": "display_data"
    }
   ],
   "source": [
    "x = np.linspace(X1[0], X1[-1], 100)\n",
    "M = bootstrap(X1, np.mean)\n",
    "fig, ax = plt.subplots(1, figsize = (10, 5))\n",
    "h = list(np.histogram(M))\n",
    "h[0] = h[0]/1000\n",
    "h[0] = [h[0][i]/(h[1][i+1]-h[1][i]) for i in range (len(h[0]))]\n",
    "plt.hist(h[1][:-1], h[1], weights=h[0])\n",
    "ax.plot(x, gaus(x), color = 'red')\n",
    "plt.grid(True)"
   ]
  },
  {
   "cell_type": "markdown",
   "metadata": {},
   "source": [
    "### Bootstrap"
   ]
  },
  {
   "cell_type": "code",
   "execution_count": 115,
   "metadata": {},
   "outputs": [],
   "source": [
    "def gamma (x):\n",
    "    return (moment(x, 3)/(moment(x, 2)**1.5))\n",
    "M = bootstrap(X1, gamma)"
   ]
  },
  {
   "cell_type": "code",
   "execution_count": 116,
   "metadata": {},
   "outputs": [
    {
     "data": {
      "image/png": "[encoded data removed]",
      "text/plain": [
       "<Figure size 432x288 with 1 Axes>"
      ]
     },
     "metadata": {
      "needs_background": "light"
     },
     "output_type": "display_data"
    }
   ],
   "source": [
    "h = list(np.histogram(M))\n",
    "fig, ax = plt.subplots()\n",
    "h[0] = h[0]/1000\n",
    "h[0] = [h[0][i]/(h[1][i+1]-h[1][i]) for i in range (len(h[0]))]\n",
    "plt.hist(h[1][:-1], h[1], weights=h[0])\n",
    "None"
   ]
  },
  {
   "cell_type": "code",
   "execution_count": null,
   "metadata": {},
   "outputs": [],
   "source": []
  },
  {
   "cell_type": "code",
   "execution_count": null,
   "metadata": {},
   "outputs": [],
   "source": []
  }
 ],
 "metadata": {
  "kernelspec": {
   "display_name": "Python 3",
   "language": "python",
   "name": "python3"
  },
  "language_info": {
   "codemirror_mode": {
    "name": "ipython",
    "version": 3
   },
   "file_extension": ".py",
   "mimetype": "text/x-python",
   "name": "python",
   "nbconvert_exporter": "python",
   "pygments_lexer": "ipython3",
   "version": "3.8.5"
  }
 },
 "nbformat": 4,
 "nbformat_minor": 4
}
