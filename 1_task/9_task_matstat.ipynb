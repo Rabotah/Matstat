{
 "cells": [
  {
   "cell_type": "code",
   "execution_count": 215,
   "metadata": {},
   "outputs": [],
   "source": [
    "import numpy as np\n",
    "import matplotlib.pyplot as plt\n",
    "from scipy import integrate\n",
    "from scipy.stats import chi2"
   ]
  },
  {
   "cell_type": "markdown",
   "metadata": {},
   "source": [
    "## Т9"
   ]
  },
  {
   "cell_type": "markdown",
   "metadata": {},
   "source": [
    "a)"
   ]
  },
  {
   "cell_type": "code",
   "execution_count": 48,
   "metadata": {},
   "outputs": [
    {
     "data": {
      "text/plain": [
       "14.90729411764706"
      ]
     },
     "execution_count": 48,
     "metadata": {},
     "output_type": "execute_result"
    }
   ],
   "source": [
    "n = 100\n",
    "p = 9.68\n",
    "d = 0\n",
    "mass = np.array([5, 8, 6, 12, 14, 18, 11, 6, 13, 7])\n",
    "for i in range(9):\n",
    "    d += (mass[i] - 100/p)**2/(100/p)\n",
    "d += (7 - 100*(p-9)/p)**2/(100*(p-9)/p)    \n",
    "d    "
   ]
  },
  {
   "cell_type": "code",
   "execution_count": 53,
   "metadata": {},
   "outputs": [],
   "source": [
    "t = []\n",
    "for i in range(len(mass)):\n",
    "    t.extend([i for j in range(mass[i])])\n",
    "    \n",
    "x = np.linspace(0, 9, 100)\n",
    "y = [np.sum(t<i)/n for i in x]\n",
    "y1 = np.array([i/10 for i in x])"
   ]
  },
  {
   "cell_type": "code",
   "execution_count": 59,
   "metadata": {},
   "outputs": [
    {
     "data": {
      "text/plain": [
       "[<matplotlib.lines.Line2D at 0x2339f367cd0>]"
      ]
     },
     "execution_count": 59,
     "metadata": {},
     "output_type": "execute_result"
    },
    {
     "data": {
      "image/png": "[encoded data removed]",
      "text/plain": [
       "<Figure size 432x288 with 1 Axes>"
      ]
     },
     "metadata": {
      "needs_background": "light"
     },
     "output_type": "display_data"
    }
   ],
   "source": [
    "plt.plot(x, y, 'red')\n",
    "plt.plot(x, y1, 'violet')"
   ]
  },
  {
   "cell_type": "code",
   "execution_count": 62,
   "metadata": {},
   "outputs": [
    {
     "data": {
      "text/plain": [
       "1.3090909090909086"
      ]
     },
     "execution_count": 62,
     "metadata": {},
     "output_type": "execute_result"
    }
   ],
   "source": [
    "delta = np.sqrt(n)*max(list(map(lambda x,y: abs(x-y), y, y1)))\n",
    "delta"
   ]
  },
  {
   "cell_type": "code",
   "execution_count": 64,
   "metadata": {},
   "outputs": [
    {
     "data": {
      "text/plain": [
       "0.06493782081472488"
      ]
     },
     "execution_count": 64,
     "metadata": {},
     "output_type": "execute_result"
    }
   ],
   "source": [
    "p_val = np.sum([-2*(-1)**(i)*np.exp(-2*i**2*delta**2) for i in range(1,1000)])\n",
    "p_val"
   ]
  },
  {
   "cell_type": "markdown",
   "metadata": {},
   "source": [
    "б)"
   ]
  },
  {
   "cell_type": "code",
   "execution_count": 154,
   "metadata": {},
   "outputs": [
    {
     "data": {
      "text/plain": [
       "[0, 1, 2, 3, 4, 5, 6, 7, 8, 9, inf]"
      ]
     },
     "execution_count": 154,
     "metadata": {},
     "output_type": "execute_result"
    }
   ],
   "source": [
    "def gauss(x, mean, sigma):\n",
    "    return 1/(sigma * np.sqrt(2 * np.pi)) * np.exp(-(x - mean)**2 / (2 * sigma**2) )\n",
    "gr = [i for i in range(0, 10)]\n",
    "gr.append(np.inf)\n",
    "gr"
   ]
  },
  {
   "cell_type": "code",
   "execution_count": 164,
   "metadata": {},
   "outputs": [],
   "source": [
    "d = np.linspace(0, 9, 10)\n",
    "teta1 = np.sum(mass*d)/n\n",
    "#teta2 = (np.sum((mass*d - teta1)**2)/n)**(1/2)\n",
    "\n",
    "l_max = 0\n",
    "tetas = np.linspace(1, 10, 100)\n",
    "for teta in tetas:\n",
    "    p = []\n",
    "    for i in range(len(gr) - 1):\n",
    "        p.append(integrate.quad(gauss, gr[i], gr[i+1], args = (teta1, teta))[0])\n",
    "    l = np.prod(list(map(lambda x, y: x**y, p, mass)))\n",
    "    if l > l_max:\n",
    "        l_max = l\n",
    "        teta2 = teta"
   ]
  },
  {
   "cell_type": "code",
   "execution_count": 181,
   "metadata": {},
   "outputs": [
    {
     "name": "stdout",
     "output_type": "stream",
     "text": [
      "teta1 =  4.77\n",
      "teta2 =  2.6363636363636367\n"
     ]
    }
   ],
   "source": [
    "print('teta1 = ', teta1)\n",
    "print('teta2 = ', teta2)"
   ]
  },
  {
   "cell_type": "code",
   "execution_count": 182,
   "metadata": {},
   "outputs": [],
   "source": [
    "p = []\n",
    "for i in range(len(gr) - 1):\n",
    "    p.append(integrate.quad(gauss, gr[i], gr[i+1], args = (teta1, teta2))[0])\n",
    "p = np.array(p)    "
   ]
  },
  {
   "cell_type": "code",
   "execution_count": 183,
   "metadata": {},
   "outputs": [
    {
     "data": {
      "text/plain": [
       "array([0.04115711, 0.07034206, 0.10428889, 0.13412749, 0.14964323,\n",
       "       0.14482951, 0.12159547, 0.08855971, 0.05595129, 0.05430384])"
      ]
     },
     "execution_count": 183,
     "metadata": {},
     "output_type": "execute_result"
    }
   ],
   "source": [
    "p"
   ]
  },
  {
   "cell_type": "code",
   "execution_count": 184,
   "metadata": {},
   "outputs": [
    {
     "data": {
      "text/plain": [
       "14.553725224654213"
      ]
     },
     "execution_count": 184,
     "metadata": {},
     "output_type": "execute_result"
    }
   ],
   "source": [
    "delta = np.sum((mass-p*n)**2/(p*n))\n",
    "delta"
   ]
  },
  {
   "cell_type": "markdown",
   "metadata": {},
   "source": [
    "## Колмогоров"
   ]
  },
  {
   "cell_type": "code",
   "execution_count": 174,
   "metadata": {},
   "outputs": [],
   "source": [
    "N = 50000\n",
    "x = []\n",
    "for i in range(len(mass)):\n",
    "    x.extend([i for j in range(mass[i])])\n",
    "    \n",
    "d_k = []\n",
    "for i in range(N):\n",
    "    x1 = np.random.normal(teta1, teta2, n)\n",
    "    y = np.linspace(0, max(max(x1), 9), 100)\n",
    "    f1 = [np.sum(x<i)/n for i in y]\n",
    "    f2 = [np.sum(x1<i)/n for i in y]\n",
    "    t = 10*max(list(map(lambda x,y: abs(x-y), f1, f2)))\n",
    "    d_k.append(t)\n",
    "d_k = np.sort(np.array(d_k))"
   ]
  },
  {
   "cell_type": "code",
   "execution_count": 185,
   "metadata": {},
   "outputs": [
    {
     "data": {
      "text/plain": [
       "2.0000000000020002e-05"
      ]
     },
     "execution_count": 185,
     "metadata": {},
     "output_type": "execute_result"
    }
   ],
   "source": [
    "k = len(d_k[d_k<14.55])\n",
    "p_value = 1-((k-1)/N)\n",
    "p_value"
   ]
  },
  {
   "cell_type": "markdown",
   "metadata": {},
   "source": [
    "c)"
   ]
  },
  {
   "cell_type": "code",
   "execution_count": 198,
   "metadata": {},
   "outputs": [],
   "source": [
    "teta2 = np.sum(mass*d**2)/100\n",
    "teta2 = np.sqrt(teta2 - teta1**2)"
   ]
  },
  {
   "cell_type": "code",
   "execution_count": 199,
   "metadata": {},
   "outputs": [
    {
     "name": "stdout",
     "output_type": "stream",
     "text": [
      "teta1 =  4.77\n",
      "teta2 =  2.5054141374231933\n"
     ]
    }
   ],
   "source": [
    "print('teta1 = ', teta1)\n",
    "print('teta2 = ', teta2)"
   ]
  },
  {
   "cell_type": "code",
   "execution_count": 201,
   "metadata": {},
   "outputs": [],
   "source": [
    "N = 50000\n",
    "d_x = []\n",
    "for i in range(N):\n",
    "    x1 = np.random.normal(teta1, teta2, n)\n",
    "    mean_t = np.mean(x1)\n",
    "    sigma_t = np.std(x1)\n",
    "    p_c = []\n",
    "    for i in range(len(gr)-1):\n",
    "        p_c.append(integrate.quad(gauss, gr[i], gr[i+1], args = (mean_t, sigma_t))[0])\n",
    "    nums = [len(x1[(x1 >= gr[i]) & (x1 <= gr[i+1])]) for i in range(len(gr)-1)]\n",
    "    d_x.append(sum(((nums[i] - n*p_c[i])**2)/(n*(p_c[i]+0.00001)) for i in range(len(p_c))))    \n",
    "d_x = np.sort(np.array(d_x))"
   ]
  },
  {
   "cell_type": "code",
   "execution_count": 204,
   "metadata": {},
   "outputs": [
    {
     "data": {
      "text/plain": [
       "0.05356000000000005"
      ]
     },
     "execution_count": 204,
     "metadata": {},
     "output_type": "execute_result"
    }
   ],
   "source": [
    "k = len(d_x[d_x<14.55])\n",
    "p_value = 1-((k-1)/N)\n",
    "p_value"
   ]
  },
  {
   "cell_type": "code",
   "execution_count": 221,
   "metadata": {},
   "outputs": [],
   "source": [
    "def hi2(x, k):\n",
    "    return 3*gammainc(k/2, x/2)/gamma(k/2)\n",
    "x = np.linspace(0, 30, 1000)\n",
    "hi_7 = []\n",
    "hi_9 = []\n",
    "for i in x:\n",
    "    hi_7.append(integrate.quad(chi2.pdf, 0, i, args=7)[0])\n",
    "    hi_9.append(integrate.quad(chi2.pdf, 0, i, args=9)[0])\n",
    "deltas = [len(d_x[d_x<i])/N for i in x]    "
   ]
  },
  {
   "cell_type": "code",
   "execution_count": 230,
   "metadata": {},
   "outputs": [
    {
     "data": {
      "image/png": "[encoded data removed]",
      "text/plain": [
       "<Figure size 720x360 with 1 Axes>"
      ]
     },
     "metadata": {
      "needs_background": "light"
     },
     "output_type": "display_data"
    }
   ],
   "source": [
    "plt.subplots(figsize=(10,5))\n",
    "plt.plot(x , hi_7, 'red', label = 'Xи2 от 7')\n",
    "plt.plot(x , hi_9, 'violet', label = 'Xи2 от 9')\n",
    "plt.plot(x , deltas, 'blue', label = 'Наше распределение')\n",
    "plt.legend()\n",
    "plt.grid()"
   ]
  },
  {
   "cell_type": "code",
   "execution_count": null,
   "metadata": {},
   "outputs": [],
   "source": []
  }
 ],
 "metadata": {
  "kernelspec": {
   "display_name": "Python 3",
   "language": "python",
   "name": "python3"
  },
  "language_info": {
   "codemirror_mode": {
    "name": "ipython",
    "version": 3
   },
   "file_extension": ".py",
   "mimetype": "text/x-python",
   "name": "python",
   "nbconvert_exporter": "python",
   "pygments_lexer": "ipython3",
   "version": "3.8.5"
  }
 },
 "nbformat": 4,
 "nbformat_minor": 4
}
