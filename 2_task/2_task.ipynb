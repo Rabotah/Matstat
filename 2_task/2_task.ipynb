{
 "cells": [
  {
   "cell_type": "code",
   "execution_count": 6,
   "metadata": {},
   "outputs": [],
   "source": [
    "import numpy as np\n",
    "import matplotlib.pyplot as plt\n",
    "import pandas as pd\n",
    "from scipy.stats import t, f, norm\n",
    "from sklearn.linear_model import LinearRegression"
   ]
  },
  {
   "cell_type": "code",
   "execution_count": 24,
   "metadata": {},
   "outputs": [],
   "source": [
    "data = [[83, 85],\n",
    "         [84,85,85,86,86,87],\n",
    "         [86,87,87,87,88,88,88,88,88,89,90],\n",
    "         [89,90,90,91],\n",
    "         [90,92]]"
   ]
  },
  {
   "cell_type": "markdown",
   "metadata": {},
   "source": [
    "## а)"
   ]
  },
  {
   "cell_type": "code",
   "execution_count": 17,
   "metadata": {},
   "outputs": [],
   "source": [
    "psi = list()\n",
    "for i in range(len(data)):\n",
    "    for j in range(len(data[i])):\n",
    "        a = np.zeros(5)\n",
    "        a[i] += 1\n",
    "        psi.append(list(a))\n",
    "\n",
    "y = list()\n",
    "for i in range(len(data)):\n",
    "    y += data[i]\n",
    "psi = np.array(psi)\n",
    "y = np.array(y)"
   ]
  },
  {
   "cell_type": "code",
   "execution_count": 22,
   "metadata": {},
   "outputs": [
    {
     "name": "stdout",
     "output_type": "stream",
     "text": [
      "b =  [84.    85.5   87.818 90.    91.   ]\n"
     ]
    }
   ],
   "source": [
    "F = psi.T @ psi\n",
    "F_i = np.linalg.inv(F)\n",
    "b = F_i @ psi.T @ y\n",
    "print('b = ', np.around(b, 3))"
   ]
  },
  {
   "cell_type": "code",
   "execution_count": 27,
   "metadata": {},
   "outputs": [
    {
     "data": {
      "text/plain": [
       "0.00017"
      ]
     },
     "execution_count": 27,
     "metadata": {},
     "output_type": "execute_result"
    }
   ],
   "source": [
    "e = y - psi@b\n",
    "RSS = e.T @ e\n",
    "TSS = np.sum((y - np.mean(y))**2)\n",
    "R2 = (TSS- RSS)/TSS\n",
    "N, p = psi.shape\n",
    "delta = R2**2/(1-R2**2)*(N - p)/(p-1)\n",
    "p_val = 1 - f.cdf(delta, p-1, N-p)\n",
    "np.around(p_val, 5)"
   ]
  },
  {
   "cell_type": "markdown",
   "metadata": {},
   "source": [
    "#### Н0 отвергается => возраст влияет"
   ]
  },
  {
   "cell_type": "markdown",
   "metadata": {},
   "source": [
    "## b)"
   ]
  },
  {
   "cell_type": "code",
   "execution_count": 30,
   "metadata": {},
   "outputs": [
    {
     "name": "stdout",
     "output_type": "stream",
     "text": [
      "1 эквивалентно 2\n",
      "1 не эквивалентно 3 p_value =  0.00017\n",
      "1 не эквивалентно 4 p_value =  0.0\n",
      "1 не эквивалентно 5 p_value =  0.0\n",
      "2 не эквивалентно 3 p_value =  0.0004\n",
      "2 не эквивалентно 4 p_value =  0.0\n",
      "2 не эквивалентно 5 p_value =  0.0\n",
      "3 не эквивалентно 4 p_value =  0.00239\n",
      "3 не эквивалентно 5 p_value =  0.001\n",
      "4 эквивалентно 5\n"
     ]
    }
   ],
   "source": [
    "for i in range(p):\n",
    "    for j in range(i+1, p):\n",
    "        d = (N-p)**0.5*(b[i] - b[j])/(RSS*(F_i[i,i]+F_i[j,j]))**0.5\n",
    "        p_val_ = 2*(1-t.cdf(abs(d), N-p))\n",
    "        if p_val_ < 0.05:\n",
    "            print(f'{i+1} не эквивалентно {j+1}', 'p_value = ', np.around(p_val_, 5))\n",
    "        else:\n",
    "            print(f'{i+1} эквивалентно {j+1}')"
   ]
  }
 ],
 "metadata": {
  "kernelspec": {
   "display_name": "Python 3",
   "language": "python",
   "name": "python3"
  },
  "language_info": {
   "codemirror_mode": {
    "name": "ipython",
    "version": 3
   },
   "file_extension": ".py",
   "mimetype": "text/x-python",
   "name": "python",
   "nbconvert_exporter": "python",
   "pygments_lexer": "ipython3",
   "version": "3.8.5"
  }
 },
 "nbformat": 4,
 "nbformat_minor": 4
}
