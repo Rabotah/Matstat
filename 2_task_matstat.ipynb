{
 "cells": [
  {
   "cell_type": "code",
   "execution_count": 61,
   "metadata": {},
   "outputs": [],
   "source": [
    "import numpy as np\n",
    "import matplotlib.pyplot as plt"
   ]
  },
  {
   "cell_type": "markdown",
   "metadata": {},
   "source": [
    "### выборка"
   ]
  },
  {
   "cell_type": "code",
   "execution_count": 62,
   "metadata": {},
   "outputs": [
    {
     "data": {
      "text/plain": [
       "array([0.12 , 3.668, 1.305, 0.433, 1.23 , 1.607, 1.037, 0.535, 1.224,\n",
       "       0.283, 0.296, 0.024, 0.104, 0.357, 1.024, 0.389, 0.205, 2.491,\n",
       "       0.316, 0.32 , 3.088, 0.136, 1.375, 0.005, 1.943])"
      ]
     },
     "execution_count": 62,
     "metadata": {},
     "output_type": "execute_result"
    }
   ],
   "source": [
    "N = 25\n",
    "np.random.seed(47)\n",
    "X = np.around(np.log(1/(1-np.random.random_sample(N))), decimals = 3)\n",
    "X                         "
   ]
  },
  {
   "cell_type": "markdown",
   "metadata": {},
   "source": [
    "### вариационный ряд"
   ]
  },
  {
   "cell_type": "code",
   "execution_count": 63,
   "metadata": {},
   "outputs": [
    {
     "data": {
      "text/plain": [
       "array([0.005, 0.024, 0.104, 0.12 , 0.136, 0.205, 0.283, 0.296, 0.316,\n",
       "       0.32 , 0.357, 0.389, 0.433, 0.535, 1.024, 1.037, 1.224, 1.23 ,\n",
       "       1.305, 1.375, 1.607, 1.943, 2.491, 3.088, 3.668])"
      ]
     },
     "execution_count": 63,
     "metadata": {},
     "output_type": "execute_result"
    }
   ],
   "source": [
    "X1 = np.sort(X)\n",
    "X1"
   ]
  },
  {
   "cell_type": "markdown",
   "metadata": {},
   "source": [
    "### мода, медиана, размах"
   ]
  },
  {
   "cell_type": "code",
   "execution_count": 64,
   "metadata": {},
   "outputs": [
    {
     "name": "stdout",
     "output_type": "stream",
     "text": [
      "размах =  3.6630000000000003\n",
      "медиана =  0.535\n",
      "мода =  [0.005 0.024 0.104 0.12  0.136 0.205 0.283 0.296 0.316 0.32  0.357 0.389\n",
      " 0.433 0.535 1.024 1.037 1.224 1.23  1.305 1.375 1.607 1.943 2.491 3.088\n",
      " 3.668]\n"
     ]
    }
   ],
   "source": [
    "print('размах = ',  X1[N-1] - X1[0])\n",
    "print('медиана = ',  X1[13])\n",
    "print('мода = ',  X1)"
   ]
  },
  {
   "cell_type": "markdown",
   "metadata": {},
   "source": [
    "### Эмпирическая функция"
   ]
  },
  {
   "cell_type": "code",
   "execution_count": 65,
   "metadata": {},
   "outputs": [
    {
     "data": {
      "image/png": "[encoded data removed]",
      "text/plain": [
       "<Figure size 1080x360 with 1 Axes>"
      ]
     },
     "metadata": {
      "needs_background": "light"
     },
     "output_type": "display_data"
    }
   ],
   "source": [
    "fig, ax = plt.subplots(figsize = (15, 5))\n",
    "plt.plot([X1[0]-0.1, X1[0]], [0, 0], color = \"violet\")\n",
    "for i in range(N-1):\n",
    "    plt.plot(X1[i:i+2], [(i + 1) / N]*2, color = \"violet\")\n",
    "plt.plot([X1[-1], X1[-1] + 0.1], [1,1], color = \"violet\")\n",
    "plt.scatter(X1, [i / N for i in range(1, 26)], color = 'violet')\n",
    "plt.show()"
   ]
  },
  {
   "cell_type": "markdown",
   "metadata": {},
   "source": [
    "###  Гистограмма"
   ]
  },
  {
   "cell_type": "code",
   "execution_count": 66,
   "metadata": {},
   "outputs": [
    {
     "data": {
      "text/plain": [
       "[array([0.112, 0.048, 0.016, 0.008, 0.016]),\n",
       " array([0.7376, 1.4702, 2.2028, 2.9354, 3.668 ])]"
      ]
     },
     "execution_count": 66,
     "metadata": {},
     "output_type": "execute_result"
    }
   ],
   "source": [
    "k = 5\n",
    "h = list(np.histogram(X1, bins = k))\n",
    "h[0] = h[0]/N/k\n",
    "h[1] = np.delete(h[1], 0)\n",
    "h"
   ]
  },
  {
   "cell_type": "code",
   "execution_count": 67,
   "metadata": {},
   "outputs": [
    {
     "data": {
      "image/png": "[encoded data removed]",
      "text/plain": [
       "<Figure size 432x288 with 1 Axes>"
      ]
     },
     "metadata": {
      "needs_background": "light"
     },
     "output_type": "display_data"
    }
   ],
   "source": [
    "fig, ax = plt.subplots()\n",
    "ax.bar(h[1], h[0])\n",
    "None"
   ]
  },
  {
   "cell_type": "markdown",
   "metadata": {},
   "source": [
    "### Boxplot"
   ]
  },
  {
   "cell_type": "code",
   "execution_count": 68,
   "metadata": {},
   "outputs": [
    {
     "data": {
      "image/png": "[encoded data removed]",
      "text/plain": [
       "<Figure size 432x288 with 1 Axes>"
      ]
     },
     "metadata": {
      "needs_background": "light"
     },
     "output_type": "display_data"
    }
   ],
   "source": [
    "plt.boxplot(X1, vert = False)\n",
    "None"
   ]
  },
  {
   "cell_type": "markdown",
   "metadata": {},
   "source": [
    "### ЯОП"
   ]
  },
  {
   "cell_type": "code",
   "execution_count": 69,
   "metadata": {},
   "outputs": [
    {
     "data": {
      "text/plain": [
       "1.9842492068662148"
      ]
     },
     "execution_count": 69,
     "metadata": {},
     "output_type": "execute_result"
    }
   ],
   "source": [
    "h = 2.344/3*np.sqrt(np.sum((X-1/N*np.sum(X))**2))/(N**0.2)\n",
    "h"
   ]
  },
  {
   "cell_type": "code",
   "execution_count": 70,
   "metadata": {},
   "outputs": [
    {
     "data": {
      "text/plain": [
       "[<matplotlib.lines.Line2D at 0x1f0586071c0>]"
      ]
     },
     "execution_count": 70,
     "metadata": {},
     "output_type": "execute_result"
    },
    {
     "data": {
      "image/png": "[encoded data removed]",
      "text/plain": [
       "<Figure size 432x288 with 1 Axes>"
      ]
     },
     "metadata": {
      "needs_background": "light"
     },
     "output_type": "display_data"
    }
   ],
   "source": [
    "def q(z):\n",
    "    return 0.75*(1 - z**2)\n",
    "def p(z):\n",
    "    return 1/(25*h)*np.sum([(q((z - i)/h) if q((z - i)/h) > 0 else 0) for i in X])\n",
    "x = np.linspace(X1[0], X1[-1], 25)\n",
    "plt.plot(x, [p(i) for i in x])"
   ]
  },
  {
   "cell_type": "markdown",
   "metadata": {},
   "source": [
    "### Плотность распределения ср. арифм."
   ]
  },
  {
   "cell_type": "code",
   "execution_count": 71,
   "metadata": {},
   "outputs": [],
   "source": [
    "from scipy.stats import moment\n",
    "from random import choice\n",
    "def bootstrap(X, func):\n",
    "    np.random.seed(42)\n",
    "    M = np.array([])\n",
    "    for i in range(1000):\n",
    "        x = np.array([])\n",
    "        for i in range(10):\n",
    "            x = np.append(x, choice(X))\n",
    "        M = np.append(M, func(x))\n",
    "    return M  \n",
    "M = bootstrap(X1, np.mean)"
   ]
  },
  {
   "cell_type": "code",
   "execution_count": 72,
   "metadata": {},
   "outputs": [
    {
     "data": {
      "text/plain": [
       "[<matplotlib.lines.Line2D at 0x1f058634f40>]"
      ]
     },
     "execution_count": 72,
     "metadata": {},
     "output_type": "execute_result"
    },
    {
     "data": {
      "image/png": "[encoded data removed]",
      "text/plain": [
       "<Figure size 720x360 with 1 Axes>"
      ]
     },
     "metadata": {
      "needs_background": "light"
     },
     "output_type": "display_data"
    }
   ],
   "source": [
    "from scipy.stats import norm\n",
    "x = np.linspace(X1[0], X1[-1], 100)\n",
    "fig, ax = plt.subplots(1, figsize = (10, 5))\n",
    "h = list(np.histogram(M))\n",
    "h[0] = h[0]/N\n",
    "h[1] = np.delete(h[1], -1)\n",
    "ax.bar(h[1], h[0])\n",
    "ax.plot(x, norm.pdf(x, loc = 1, scale = 0.04), color = 'red')"
   ]
  },
  {
   "cell_type": "markdown",
   "metadata": {},
   "source": [
    "### Bootstrap"
   ]
  },
  {
   "cell_type": "code",
   "execution_count": 73,
   "metadata": {},
   "outputs": [],
   "source": [
    "def gamma (x):\n",
    "    return (moment(x, 3)/(moment(x, 2)**1.5))\n",
    "M = bootstrap(X1, gamma)"
   ]
  },
  {
   "cell_type": "code",
   "execution_count": 74,
   "metadata": {},
   "outputs": [
    {
     "data": {
      "text/plain": [
       "<BarContainer object of 10 artists>"
      ]
     },
     "execution_count": 74,
     "metadata": {},
     "output_type": "execute_result"
    },
    {
     "data": {
      "image/png": "[encoded data removed]",
      "text/plain": [
       "<Figure size 432x288 with 1 Axes>"
      ]
     },
     "metadata": {
      "needs_background": "light"
     },
     "output_type": "display_data"
    }
   ],
   "source": [
    "h = list(np.histogram(M))\n",
    "h[0] = h[0]/N/k\n",
    "h[1] = np.delete(h[1], -1)\n",
    "fig, ax = plt.subplots()\n",
    "ax.bar(h[1], h[0])"
   ]
  },
  {
   "cell_type": "code",
   "execution_count": null,
   "metadata": {},
   "outputs": [],
   "source": []
  }
 ],
 "metadata": {
  "kernelspec": {
   "display_name": "Python 3",
   "language": "python",
   "name": "python3"
  },
  "language_info": {
   "codemirror_mode": {
    "name": "ipython",
    "version": 3
   },
   "file_extension": ".py",
   "mimetype": "text/x-python",
   "name": "python",
   "nbconvert_exporter": "python",
   "pygments_lexer": "ipython3",
   "version": "3.8.5"
  }
 },
 "nbformat": 4,
 "nbformat_minor": 4
}
