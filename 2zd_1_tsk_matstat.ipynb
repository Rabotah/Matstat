{
 "cells": [
  {
   "cell_type": "code",
   "execution_count": 921,
   "metadata": {},
   "outputs": [],
   "source": [
    "import numpy as np\n",
    "import matplotlib.pyplot as plt\n",
    "import pandas as pd\n",
    "from sklearn.linear_model import LinearRegression\n",
    "from scipy.stats import t, f, norm\n",
    "from sklearn.neighbors import KNeighborsClassifier\n"
   ]
  },
  {
   "cell_type": "markdown",
   "metadata": {},
   "source": [
    "## выборка"
   ]
  },
  {
   "cell_type": "code",
   "execution_count": 922,
   "metadata": {},
   "outputs": [],
   "source": [
    "N = 50\n",
    "np.random.seed(42)\n",
    "X = []\n",
    "for i in range(N):\n",
    "    y = np.random.uniform(-1, 1, 5)\n",
    "    y = np.append(y, np.random.normal(2+3*y[0]-2*y[1]+y[2]+y[3]-y[4], 1.5))\n",
    "    X.append(y)"
   ]
  },
  {
   "cell_type": "code",
   "execution_count": 923,
   "metadata": {},
   "outputs": [
    {
     "data": {
      "text/plain": [
       "[array([ 0.41614516, -0.95883101,  0.9398197 ,  0.66488528, -0.57532178,\n",
       "         8.86189718]),\n",
       " array([-0.63635007, -0.63319098, -0.39151551,  0.04951286, -0.13610996,\n",
       "         2.3761067 ]),\n",
       " array([-0.72101228, -0.4157107 , -0.26727631, -0.08786003,  0.57035192,\n",
       "        -2.54291769]),\n",
       " array([-0.60065244,  0.02846888,  0.18482914, -0.90709917,  0.2150897 ,\n",
       "        -1.69663558])]"
      ]
     },
     "execution_count": 923,
     "metadata": {},
     "output_type": "execute_result"
    }
   ],
   "source": [
    "X[1:5]"
   ]
  },
  {
   "cell_type": "markdown",
   "metadata": {},
   "source": [
    "## а) мультиколлинеарность"
   ]
  },
  {
   "cell_type": "code",
   "execution_count": 924,
   "metadata": {},
   "outputs": [
    {
     "data": {
      "text/html": [
       "<div>\n",
       "<style scoped>\n",
       "    .dataframe tbody tr th:only-of-type {\n",
       "        vertical-align: middle;\n",
       "    }\n",
       "\n",
       "    .dataframe tbody tr th {\n",
       "        vertical-align: top;\n",
       "    }\n",
       "\n",
       "    .dataframe thead th {\n",
       "        text-align: right;\n",
       "    }\n",
       "</style>\n",
       "<table border=\"1\" class=\"dataframe\">\n",
       "  <thead>\n",
       "    <tr style=\"text-align: right;\">\n",
       "      <th></th>\n",
       "      <th>x0</th>\n",
       "      <th>x1</th>\n",
       "      <th>x2</th>\n",
       "      <th>x3</th>\n",
       "      <th>x4</th>\n",
       "      <th>eta</th>\n",
       "    </tr>\n",
       "  </thead>\n",
       "  <tbody>\n",
       "    <tr>\n",
       "      <th>0</th>\n",
       "      <td>-0.250920</td>\n",
       "      <td>0.901429</td>\n",
       "      <td>0.463988</td>\n",
       "      <td>0.197317</td>\n",
       "      <td>-0.687963</td>\n",
       "      <td>1.212213</td>\n",
       "    </tr>\n",
       "    <tr>\n",
       "      <th>1</th>\n",
       "      <td>0.416145</td>\n",
       "      <td>-0.958831</td>\n",
       "      <td>0.939820</td>\n",
       "      <td>0.664885</td>\n",
       "      <td>-0.575322</td>\n",
       "      <td>8.861897</td>\n",
       "    </tr>\n",
       "    <tr>\n",
       "      <th>2</th>\n",
       "      <td>-0.636350</td>\n",
       "      <td>-0.633191</td>\n",
       "      <td>-0.391516</td>\n",
       "      <td>0.049513</td>\n",
       "      <td>-0.136110</td>\n",
       "      <td>2.376107</td>\n",
       "    </tr>\n",
       "    <tr>\n",
       "      <th>3</th>\n",
       "      <td>-0.721012</td>\n",
       "      <td>-0.415711</td>\n",
       "      <td>-0.267276</td>\n",
       "      <td>-0.087860</td>\n",
       "      <td>0.570352</td>\n",
       "      <td>-2.542918</td>\n",
       "    </tr>\n",
       "    <tr>\n",
       "      <th>4</th>\n",
       "      <td>-0.600652</td>\n",
       "      <td>0.028469</td>\n",
       "      <td>0.184829</td>\n",
       "      <td>-0.907099</td>\n",
       "      <td>0.215090</td>\n",
       "      <td>-1.696636</td>\n",
       "    </tr>\n",
       "  </tbody>\n",
       "</table>\n",
       "</div>"
      ],
      "text/plain": [
       "         x0        x1        x2        x3        x4       eta\n",
       "0 -0.250920  0.901429  0.463988  0.197317 -0.687963  1.212213\n",
       "1  0.416145 -0.958831  0.939820  0.664885 -0.575322  8.861897\n",
       "2 -0.636350 -0.633191 -0.391516  0.049513 -0.136110  2.376107\n",
       "3 -0.721012 -0.415711 -0.267276 -0.087860  0.570352 -2.542918\n",
       "4 -0.600652  0.028469  0.184829 -0.907099  0.215090 -1.696636"
      ]
     },
     "execution_count": 924,
     "metadata": {},
     "output_type": "execute_result"
    }
   ],
   "source": [
    "data = pd.DataFrame(X, columns = ['x0','x1','x2','x3','x4','eta'])\n",
    "data.head(5)"
   ]
  },
  {
   "cell_type": "code",
   "execution_count": 925,
   "metadata": {},
   "outputs": [
    {
     "name": "stdout",
     "output_type": "stream",
     "text": [
      "x0 :  0.478\n",
      "x1 :  0.133\n",
      "x2 :  0.075\n",
      "x3 :  0.09\n",
      "x4 :  0.104\n"
     ]
    }
   ],
   "source": [
    "cols = ['x0','x1','x2','x3','x4']\n",
    "X_train = data.drop(['eta'], axis = 1)\n",
    "y_train = data[['eta']].values\n",
    "y_ = np.mean(y_train)\n",
    "for i in cols:\n",
    "    x = X_train[[i]].values\n",
    "    clf = LinearRegression()\n",
    "    clf.fit(x, y_train)\n",
    "    pr = clf.predict(x)\n",
    "    e = y_train - pr\n",
    "    RSS = e.T@e\n",
    "    TSS = np.sum((y_train - y_)**2)\n",
    "    R = 1 - RSS/TSS\n",
    "    print(i, ': ', np.around(R[0][0], 3))"
   ]
  },
  {
   "cell_type": "markdown",
   "metadata": {},
   "source": [
    "#### значения не мультиколлинеарны"
   ]
  },
  {
   "cell_type": "markdown",
   "metadata": {},
   "source": [
    "## б) уравнение лин. регрессии"
   ]
  },
  {
   "cell_type": "code",
   "execution_count": 926,
   "metadata": {},
   "outputs": [],
   "source": [
    "data.insert(0, '1', 1)"
   ]
  },
  {
   "cell_type": "code",
   "execution_count": 927,
   "metadata": {},
   "outputs": [
    {
     "data": {
      "text/html": [
       "<div>\n",
       "<style scoped>\n",
       "    .dataframe tbody tr th:only-of-type {\n",
       "        vertical-align: middle;\n",
       "    }\n",
       "\n",
       "    .dataframe tbody tr th {\n",
       "        vertical-align: top;\n",
       "    }\n",
       "\n",
       "    .dataframe thead th {\n",
       "        text-align: right;\n",
       "    }\n",
       "</style>\n",
       "<table border=\"1\" class=\"dataframe\">\n",
       "  <thead>\n",
       "    <tr style=\"text-align: right;\">\n",
       "      <th></th>\n",
       "      <th>1</th>\n",
       "      <th>x0</th>\n",
       "      <th>x1</th>\n",
       "      <th>x2</th>\n",
       "      <th>x3</th>\n",
       "      <th>x4</th>\n",
       "      <th>eta</th>\n",
       "    </tr>\n",
       "  </thead>\n",
       "  <tbody>\n",
       "    <tr>\n",
       "      <th>0</th>\n",
       "      <td>1</td>\n",
       "      <td>-0.250920</td>\n",
       "      <td>0.901429</td>\n",
       "      <td>0.463988</td>\n",
       "      <td>0.197317</td>\n",
       "      <td>-0.687963</td>\n",
       "      <td>1.212213</td>\n",
       "    </tr>\n",
       "    <tr>\n",
       "      <th>1</th>\n",
       "      <td>1</td>\n",
       "      <td>0.416145</td>\n",
       "      <td>-0.958831</td>\n",
       "      <td>0.939820</td>\n",
       "      <td>0.664885</td>\n",
       "      <td>-0.575322</td>\n",
       "      <td>8.861897</td>\n",
       "    </tr>\n",
       "    <tr>\n",
       "      <th>2</th>\n",
       "      <td>1</td>\n",
       "      <td>-0.636350</td>\n",
       "      <td>-0.633191</td>\n",
       "      <td>-0.391516</td>\n",
       "      <td>0.049513</td>\n",
       "      <td>-0.136110</td>\n",
       "      <td>2.376107</td>\n",
       "    </tr>\n",
       "    <tr>\n",
       "      <th>3</th>\n",
       "      <td>1</td>\n",
       "      <td>-0.721012</td>\n",
       "      <td>-0.415711</td>\n",
       "      <td>-0.267276</td>\n",
       "      <td>-0.087860</td>\n",
       "      <td>0.570352</td>\n",
       "      <td>-2.542918</td>\n",
       "    </tr>\n",
       "    <tr>\n",
       "      <th>4</th>\n",
       "      <td>1</td>\n",
       "      <td>-0.600652</td>\n",
       "      <td>0.028469</td>\n",
       "      <td>0.184829</td>\n",
       "      <td>-0.907099</td>\n",
       "      <td>0.215090</td>\n",
       "      <td>-1.696636</td>\n",
       "    </tr>\n",
       "  </tbody>\n",
       "</table>\n",
       "</div>"
      ],
      "text/plain": [
       "   1        x0        x1        x2        x3        x4       eta\n",
       "0  1 -0.250920  0.901429  0.463988  0.197317 -0.687963  1.212213\n",
       "1  1  0.416145 -0.958831  0.939820  0.664885 -0.575322  8.861897\n",
       "2  1 -0.636350 -0.633191 -0.391516  0.049513 -0.136110  2.376107\n",
       "3  1 -0.721012 -0.415711 -0.267276 -0.087860  0.570352 -2.542918\n",
       "4  1 -0.600652  0.028469  0.184829 -0.907099  0.215090 -1.696636"
      ]
     },
     "execution_count": 927,
     "metadata": {},
     "output_type": "execute_result"
    }
   ],
   "source": [
    "data.head()"
   ]
  },
  {
   "cell_type": "code",
   "execution_count": 928,
   "metadata": {},
   "outputs": [],
   "source": [
    "psi = data.drop(['eta'], axis = 1).values\n",
    "F = psi.T@psi\n",
    "f_i = np.linalg.inv(F)\n",
    "b = f_i@psi.T@y_train\n",
    "e = y_train - psi@b\n",
    "RSS = e.T@e\n",
    "deltas = []\n",
    "for i in range(6):\n",
    "    deltas.append(b[i][0]/(np.sqrt(RSS/44*f_i[i][i])))"
   ]
  },
  {
   "cell_type": "code",
   "execution_count": 929,
   "metadata": {},
   "outputs": [
    {
     "name": "stdout",
     "output_type": "stream",
     "text": [
      "дельта 0 : 9.072     b 0 : 1.94\n",
      "дельта 1 : 7.283     b 1 : 2.34\n",
      "дельта 2 : -5.316     b 2 : -1.966\n",
      "дельта 3 : 3.735     b 3 : 1.328\n",
      "дельта 4 : 3.582     b 4 : 1.361\n",
      "дельта 5 : -4.786     b 5 : -1.808\n"
     ]
    }
   ],
   "source": [
    "for i in range(6):\n",
    "    print('дельта', i, ':', np.around(deltas[i][0][0], 3), '    b', i, ':', np.around(b[i][0], 3))"
   ]
  },
  {
   "cell_type": "code",
   "execution_count": 930,
   "metadata": {},
   "outputs": [
    {
     "data": {
      "text/plain": [
       "array([[[0.   , 0.   , 0.   , 0.001, 0.001, 0.   ]]])"
      ]
     },
     "execution_count": 930,
     "metadata": {},
     "output_type": "execute_result"
    }
   ],
   "source": [
    "p_valb = [abs(2*(1 - t.cdf(abs(d),44))) for d in deltas]\n",
    "np.around(p_valb, 3).T"
   ]
  },
  {
   "cell_type": "markdown",
   "metadata": {},
   "source": [
    "#### отвергаем Н0"
   ]
  },
  {
   "cell_type": "markdown",
   "metadata": {},
   "source": [
    "## c) коэффициент детерминации"
   ]
  },
  {
   "cell_type": "code",
   "execution_count": 931,
   "metadata": {},
   "outputs": [
    {
     "name": "stdout",
     "output_type": "stream",
     "text": [
      "R2: 0.7830599204052122\n"
     ]
    },
    {
     "data": {
      "text/plain": [
       "31.764196419753823"
      ]
     },
     "execution_count": 931,
     "metadata": {},
     "output_type": "execute_result"
    }
   ],
   "source": [
    "TSS = np.sum((y_train - y_)**2)\n",
    "R2 = 1 - RSS/TSS\n",
    "print('R2:', R2[0][0])\n",
    "delta = R2/(1-R2)*44/5\n",
    "delta = delta[0][0]\n",
    "delta"
   ]
  },
  {
   "cell_type": "code",
   "execution_count": 932,
   "metadata": {},
   "outputs": [
    {
     "data": {
      "text/plain": [
       "1.4921397450962104e-13"
      ]
     },
     "execution_count": 932,
     "metadata": {},
     "output_type": "execute_result"
    }
   ],
   "source": [
    "p_val = abs((1 - f.cdf(delta, 5,44)))\n",
    "p_val"
   ]
  },
  {
   "cell_type": "markdown",
   "metadata": {},
   "source": [
    "#### отвергаем Н0 - коэффициент значим"
   ]
  },
  {
   "cell_type": "markdown",
   "metadata": {},
   "source": [
    "## d) ДИ"
   ]
  },
  {
   "cell_type": "markdown",
   "metadata": {},
   "source": [
    "значение в хк = 0 будет b0"
   ]
  },
  {
   "cell_type": "code",
   "execution_count": 933,
   "metadata": {},
   "outputs": [],
   "source": [
    "x_0 = np.zeros_like(b.T)\n",
    "x_0[0] = 1\n",
    "y_pr = x_0@b"
   ]
  },
  {
   "cell_type": "code",
   "execution_count": 934,
   "metadata": {},
   "outputs": [
    {
     "data": {
      "text/plain": [
       "1.940386232142213"
      ]
     },
     "execution_count": 934,
     "metadata": {},
     "output_type": "execute_result"
    }
   ],
   "source": [
    "float(b[0])"
   ]
  },
  {
   "cell_type": "code",
   "execution_count": 935,
   "metadata": {},
   "outputs": [
    {
     "name": "stdout",
     "output_type": "stream",
     "text": [
      " t 0.975 =  2.0152403048060963\n",
      " t 0.025 =  -2.0152403048060963\n"
     ]
    }
   ],
   "source": [
    "eps = 10e-6\n",
    "ta = 0\n",
    "for i in list(np.linspace(2, 5, 50000)):\n",
    "    if (abs(t.cdf(i, 44) - 0.975)<eps):\n",
    "        ta = i\n",
    "        break\n",
    "print(' t 0.975 = ', ta)\n",
    "print(' t 0.025 = ', -ta)"
   ]
  },
  {
   "cell_type": "code",
   "execution_count": 936,
   "metadata": {},
   "outputs": [
    {
     "name": "stdout",
     "output_type": "stream",
     "text": [
      "ДИ: [ -0.052 , 6.444 ]\n"
     ]
    }
   ],
   "source": [
    "s = np.sqrt(RSS*(1 + x_0@f_i@x_0.T)/44)\n",
    "l = np.around(float(y_pr - ta*s), 3)\n",
    "r = np.around(float(y_pr + ta*s), 3)\n",
    "print('ДИ: [', l, ',', r, ']')"
   ]
  },
  {
   "cell_type": "markdown",
   "metadata": {},
   "source": [
    "## е) независимость ошибок измерения"
   ]
  },
  {
   "cell_type": "code",
   "execution_count": 937,
   "metadata": {},
   "outputs": [
    {
     "name": "stderr",
     "output_type": "stream",
     "text": [
      "<ipython-input-937-eeabd4b66770>:1: DeprecationWarning: Calling np.sum(generator) is deprecated, and in the future will give a different result. Use np.sum(np.fromiter(generator)) or the python sum builtin instead.\n",
      "  I = np.sum(np.sum(e[i]<e[:i]) for i in range(len(e)))\n"
     ]
    }
   ],
   "source": [
    "I = np.sum(np.sum(e[i]<e[:i]) for i in range(len(e)))"
   ]
  },
  {
   "cell_type": "code",
   "execution_count": 938,
   "metadata": {},
   "outputs": [
    {
     "data": {
      "text/plain": [
       "0.9248956697920041"
      ]
     },
     "execution_count": 938,
     "metadata": {},
     "output_type": "execute_result"
    }
   ],
   "source": [
    "delta = (I - N*(N-1)/4)/np.sqrt((N**3)/36)\n",
    "delta"
   ]
  },
  {
   "cell_type": "code",
   "execution_count": 939,
   "metadata": {},
   "outputs": [
    {
     "data": {
      "text/plain": [
       "0.35502017927847085"
      ]
     },
     "execution_count": 939,
     "metadata": {},
     "output_type": "execute_result"
    }
   ],
   "source": [
    "p_val = 2*(1 - norm.cdf(delta))\n",
    "p_val"
   ]
  },
  {
   "cell_type": "markdown",
   "metadata": {},
   "source": [
    "#### Нет оснований отвергать Н0 -> ошибки независимы"
   ]
  },
  {
   "cell_type": "markdown",
   "metadata": {},
   "source": [
    "## f) Нормальность распределения ошибок"
   ]
  },
  {
   "cell_type": "code",
   "execution_count": 943,
   "metadata": {},
   "outputs": [],
   "source": [
    "n = 100\n",
    "e_ = np.ravel(e)\n",
    "m = np.mean(abs(e_))\n",
    "s = np.var(e_)\n",
    "x = np.linspace(np.min(e), np.max(e), n)\n",
    "y_e = [np.sum(e_<i)/n for i in np.sort(e_)]\n",
    "y_emp = [norm.cdf(i, m, s) for i in np.sort(e_)]"
   ]
  },
  {
   "cell_type": "code",
   "execution_count": 944,
   "metadata": {},
   "outputs": [
    {
     "data": {
      "text/plain": [
       "4.161533199874978"
      ]
     },
     "execution_count": 944,
     "metadata": {},
     "output_type": "execute_result"
    }
   ],
   "source": [
    "delta_acc = n**0.5*max(list(map(lambda x,y: abs(x-y), y_e, y_emp)))\n",
    "delta_acc"
   ]
  },
  {
   "cell_type": "code",
   "execution_count": 945,
   "metadata": {},
   "outputs": [
    {
     "data": {
      "text/plain": [
       "[<matplotlib.lines.Line2D at 0x1e1e61ea9d0>]"
      ]
     },
     "execution_count": 945,
     "metadata": {},
     "output_type": "execute_result"
    },
    {
     "data": {
      "image/png": "[encoded data removed]",
      "text/plain": [
       "<Figure size 432x288 with 1 Axes>"
      ]
     },
     "metadata": {
      "needs_background": "light"
     },
     "output_type": "display_data"
    }
   ],
   "source": [
    "plt.plot(x, norm.cdf(x, m, s))\n",
    "plt.plot(np.sort(e_), y_e)\n"
   ]
  },
  {
   "cell_type": "code",
   "execution_count": 948,
   "metadata": {},
   "outputs": [
    {
     "data": {
      "text/plain": [
       "9.999999999998899e-05"
      ]
     },
     "execution_count": 948,
     "metadata": {},
     "output_type": "execute_result"
    }
   ],
   "source": [
    "N1 = 10000\n",
    "\n",
    "d_k = []\n",
    "for i in range(N1):\n",
    "    norm_ = np.random.normal(m, s, N)\n",
    "    x = np.linspace(0, max(norm_), 100)\n",
    "    f1 = [np.sum(norm_<i)/N for i in x]\n",
    "    f2 = [np.sum(e<i)/N for i in x]\n",
    "    res = N**0.5*max(list(map(lambda x,y: abs(x-y), f1, f2)))\n",
    "    d_k.append(res)\n",
    "    \n",
    "d_v = np.sort(d_k)\n",
    "k = len(d_v[d_v<delta_acc])\n",
    "p_value = 1-((k-1)/N1)\n",
    "p_value"
   ]
  },
  {
   "cell_type": "markdown",
   "metadata": {},
   "source": [
    "#### Н0 отвергается"
   ]
  },
  {
   "cell_type": "markdown",
   "metadata": {},
   "source": [
    "## g) Исследуем регресиию на выбросы"
   ]
  },
  {
   "cell_type": "code",
   "execution_count": 838,
   "metadata": {},
   "outputs": [
    {
     "data": {
      "image/png": "[encoded data removed]",
      "text/plain": [
       "<Figure size 432x288 with 1 Axes>"
      ]
     },
     "metadata": {
      "needs_background": "light"
     },
     "output_type": "display_data"
    }
   ],
   "source": [
    "sigma = np.median(abs(e))/0.675\n",
    "plt.plot([0,50], [2*sigma, 2*sigma], color = 'r')\n",
    "plt.plot([0,50], [-2*sigma, -2*sigma], color = 'r')\n",
    "plt.scatter(np.arange(N), e, color = 'violet')\n",
    "plt.title(\"Выбросы\")\n",
    "plt.show()"
   ]
  },
  {
   "cell_type": "code",
   "execution_count": 839,
   "metadata": {},
   "outputs": [
    {
     "name": "stdout",
     "output_type": "stream",
     "text": [
      "выброс =  3.320922166317203\n"
     ]
    }
   ],
   "source": [
    "ind = 0\n",
    "for i in range(N):\n",
    "    if(e[i] > 2*sigma):\n",
    "        print('выброс = ', e[i][0])\n",
    "        break"
   ]
  },
  {
   "cell_type": "markdown",
   "metadata": {},
   "source": [
    "## h) Кросс-проверка"
   ]
  },
  {
   "cell_type": "code",
   "execution_count": 840,
   "metadata": {},
   "outputs": [],
   "source": [
    "X_train = data.drop(['1','eta'], axis = 1)\n",
    "y_train = data[['eta']]"
   ]
  },
  {
   "cell_type": "code",
   "execution_count": 841,
   "metadata": {},
   "outputs": [
    {
     "name": "stdout",
     "output_type": "stream",
     "text": [
      "R2 =  0.21541033693401868\n"
     ]
    }
   ],
   "source": [
    "cv = []\n",
    "for i in range(N):\n",
    "    X_test = X_train.loc[i].values\n",
    "    y_test = y_train.loc[i].values\n",
    "    X_train1 = X_train.drop(i, axis = 0).values\n",
    "    y_train1 = y_train.drop(i, axis = 0).values\n",
    "    F = X_train1.T@X_train1\n",
    "    F_i = np.linalg.inv(F)\n",
    "    b1 = F_i@X_train1.T@y_train1\n",
    "    pr1 = X_test@b1\n",
    "    e = y_test - pr1\n",
    "    cv.append(e**2)\n",
    "cv = np.array(cv)\n",
    "cvss = np.sum(cv)\n",
    "R2_cv = 1 - cvss/TSS\n",
    "print('R2 = ', R2_cv)"
   ]
  },
  {
   "cell_type": "markdown",
   "metadata": {},
   "source": [
    "## i) Проверка адекватности"
   ]
  },
  {
   "cell_type": "code",
   "execution_count": 842,
   "metadata": {},
   "outputs": [
    {
     "data": {
      "text/plain": [
       "0.6055580831603877"
      ]
     },
     "execution_count": 842,
     "metadata": {},
     "output_type": "execute_result"
    }
   ],
   "source": [
    "psi5 = np.random.uniform(-1, 1, 5)\n",
    "eta5 = np.random.normal(2+3*psi5[0]-2*psi5[1]+psi5[2]+psi5[3]-psi5[4], 1.5, 5)\n",
    "sigma5 = 0.25*np.sum((eta5 - np.mean(eta5))**2)\n",
    "delta5 = RSS/(44*sigma5)\n",
    "p_val5 = 1 - f.cdf(delta5,  44, 4)\n",
    "p_val5[0][0]"
   ]
  },
  {
   "cell_type": "markdown",
   "metadata": {},
   "source": [
    "#### Нет оснований отвергать Н0 => модель адекватна (сигмы равны)"
   ]
  },
  {
   "cell_type": "markdown",
   "metadata": {},
   "source": [
    "## j) повторяем пройденное"
   ]
  },
  {
   "cell_type": "code",
   "execution_count": 843,
   "metadata": {},
   "outputs": [
    {
     "data": {
      "text/plain": [
       "4"
      ]
     },
     "execution_count": 843,
     "metadata": {},
     "output_type": "execute_result"
    }
   ],
   "source": [
    "indr = np.argmax(p_valb)\n",
    "indr"
   ]
  },
  {
   "cell_type": "code",
   "execution_count": 844,
   "metadata": {},
   "outputs": [
    {
     "name": "stdout",
     "output_type": "stream",
     "text": [
      "дельта 0 : 8.968     b 0 : 1.94\n",
      "дельта 1 : 7.2     b 1 : 2.34\n",
      "дельта 2 : -5.256     b 2 : -1.966\n",
      "дельта 3 : 3.692     b 3 : 1.328\n",
      "дельта 4 : 3.541     b 4 : 1.361\n"
     ]
    }
   ],
   "source": [
    "dt = data.drop(['x'+str(indr)], axis = 1)\n",
    "psi1 = data.drop(['eta'], axis = 1).values\n",
    "y_train1 = dt[['eta']].values\n",
    "F1 = psi1.T@psi1\n",
    "F_i = np.linalg.inv(F1)\n",
    "b1 = F_i@psi1.T@y_train1\n",
    "e1 = y_train1 - psi1@b1\n",
    "RSS1 = e1.T@e1\n",
    "delta1 = []\n",
    "for i in range(5):\n",
    "    delta1.append(b1[i][0]/(np.sqrt(RSS1/43*F_i[i][i])))\n",
    "\n",
    "for i in range(5):\n",
    "    print('дельта', i, ':', np.around(delta1[i][0][0], 3)\n",
    "          , '    b', i, ':', np.around(b1[i][0], 3))"
   ]
  },
  {
   "cell_type": "code",
   "execution_count": 845,
   "metadata": {},
   "outputs": [
    {
     "data": {
      "text/plain": [
       "array([[[0.    , 0.    , 0.    , 0.0006, 0.001 ]]])"
      ]
     },
     "execution_count": 845,
     "metadata": {},
     "output_type": "execute_result"
    }
   ],
   "source": [
    "p_val1 = [abs(2*(1 - t.cdf(abs(d),43))) for d in delta1]\n",
    "np.around(p_val1, 4).T"
   ]
  },
  {
   "cell_type": "markdown",
   "metadata": {},
   "source": [
    "#### Н0 отвергается => коэффициенты регрессии значимы"
   ]
  },
  {
   "cell_type": "code",
   "execution_count": 846,
   "metadata": {},
   "outputs": [
    {
     "name": "stdout",
     "output_type": "stream",
     "text": [
      "R2: 0.7830599204052122\n"
     ]
    },
    {
     "data": {
      "text/plain": [
       "38.802853580949275"
      ]
     },
     "execution_count": 846,
     "metadata": {},
     "output_type": "execute_result"
    }
   ],
   "source": [
    "y_1 = np.mean(y_train1)\n",
    "TSS1 = np.sum((y_train1 - y_1)**2)\n",
    "R2_ = 1 - RSS1/TSS1\n",
    "print('R2:', R2_[0][0])\n",
    "delta1 = R2_/(1-R2_)*43/4\n",
    "delta1 = delta1[0][0]\n",
    "delta1"
   ]
  },
  {
   "cell_type": "code",
   "execution_count": 847,
   "metadata": {},
   "outputs": [
    {
     "data": {
      "text/plain": [
       "9.603429163007604e-14"
      ]
     },
     "execution_count": 847,
     "metadata": {},
     "output_type": "execute_result"
    }
   ],
   "source": [
    "p_val_ = abs((1 - f.cdf(delta1, 4,43)))\n",
    "p_val_"
   ]
  },
  {
   "cell_type": "markdown",
   "metadata": {},
   "source": [
    "#### Н0 отвергается => коэфф значим"
   ]
  },
  {
   "cell_type": "markdown",
   "metadata": {},
   "source": [
    "## к) Сравнения ур. регрессий "
   ]
  },
  {
   "cell_type": "code",
   "execution_count": 848,
   "metadata": {},
   "outputs": [
    {
     "name": "stderr",
     "output_type": "stream",
     "text": [
      "<ipython-input-848-818a854b1bbf>:1: RuntimeWarning: invalid value encountered in true_divide\n",
      "  deltab = (RSS - RSS1)/RSS1*(N - len(b))/(len(b) - len(b1))\n"
     ]
    },
    {
     "data": {
      "text/plain": [
       "0.9248956697920041"
      ]
     },
     "execution_count": 848,
     "metadata": {},
     "output_type": "execute_result"
    }
   ],
   "source": [
    "deltab = (RSS - RSS1)/RSS1*(N - len(b))/(len(b) - len(b1))\n",
    "delta"
   ]
  },
  {
   "cell_type": "code",
   "execution_count": 849,
   "metadata": {},
   "outputs": [],
   "source": [
    "n = 10000\n",
    "d_b = []\n",
    "for i in range(n):\n",
    "    dt = data.loc[np.random.randint(0,len(data),len(data))]\n",
    "    dt1 = dt.drop(['x'+str(indr)], axis = 1)\n",
    "    x = dt.drop('eta', axis = 1)\n",
    "    x1 = dt1.drop('eta', axis = 1)\n",
    "    y = dt['eta']\n",
    "    y1 = dt1['eta']\n",
    "    \n",
    "    F0 = x.T @ x\n",
    "    F1 = x1.T @ x1\n",
    "    F0_i = np.linalg.inv(F0) \n",
    "    F1_i = np.linalg.inv(F1) \n",
    "    b_0 = F0_i @ x.T @ y\n",
    "    b_1 = F1_i @ x1.T @ y1 \n",
    "    y_pr = x @ np.ravel(b_0)\n",
    "    y_pr1 = x1 @ np.ravel(b_1)  \n",
    "    e_ = y - y_pr\n",
    "    e_1 = y1 - y_pr1  \n",
    "    RSS_ = e_.T @ e_\n",
    "    RSS_1 = e_1.T @ e_1\n",
    "    d = (RSS_ - RSS_1)/RSS_1*(N - len(b_0))/(len(b_0) - len(b_1))\n",
    "    d_b.append(d)\n"
   ]
  },
  {
   "cell_type": "code",
   "execution_count": 850,
   "metadata": {},
   "outputs": [
    {
     "data": {
      "text/plain": [
       "0.5017"
      ]
     },
     "execution_count": 850,
     "metadata": {},
     "output_type": "execute_result"
    }
   ],
   "source": [
    "deltas = np.sort(d_b)\n",
    "k = len(deltas[deltas<d_b])\n",
    "p_value = 1-((k-1)/n)\n",
    "p_value"
   ]
  },
  {
   "cell_type": "markdown",
   "metadata": {},
   "source": [
    "#### звёзды не дают точный ответ по поводу гипотезы"
   ]
  }
 ],
 "metadata": {
  "kernelspec": {
   "display_name": "Python 3",
   "language": "python",
   "name": "python3"
  },
  "language_info": {
   "codemirror_mode": {
    "name": "ipython",
    "version": 3
   },
   "file_extension": ".py",
   "mimetype": "text/x-python",
   "name": "python",
   "nbconvert_exporter": "python",
   "pygments_lexer": "ipython3",
   "version": "3.8.5"
  }
 },
 "nbformat": 4,
 "nbformat_minor": 4
}
