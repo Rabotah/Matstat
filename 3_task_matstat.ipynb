{
 "cells": [
  {
   "cell_type": "code",
   "execution_count": 45,
   "metadata": {},
   "outputs": [],
   "source": [
    "import numpy as np\n",
    "import matplotlib.pyplot as plt\n",
    "from scipy.stats import moment"
   ]
  },
  {
   "cell_type": "markdown",
   "metadata": {},
   "source": [
    "### выборка"
   ]
  },
  {
   "cell_type": "code",
   "execution_count": 46,
   "metadata": {},
   "outputs": [
    {
     "data": {
      "text/plain": [
       "array([ 80,  95, 109, 105, 119,  63,  92,  80,  63, 107, 102, 116,  83,\n",
       "       115,  82,  85,  63,  67,  63,  95,  98, 105, 113,  96, 113, 117,\n",
       "        61,  74, 116,  99,  96,  89,  81,  79,  92,  70,  96, 101,  91,\n",
       "        78,  68,  89,  68,  70,  82, 118, 110,  76, 111, 112,  68, 111,\n",
       "       110,  78,  88,  89,  61,  72,  62,  71, 105,  62,  69, 116, 109,\n",
       "        68, 101,  96,  94,  70, 119, 112,  66, 115, 113, 104, 105,  81,\n",
       "       103, 114, 110,  73, 119, 113,  77, 119, 103,  75,  88, 100, 117,\n",
       "        77, 100,  70,  92, 117,  95,  97,  85,  81])"
      ]
     },
     "execution_count": 46,
     "metadata": {},
     "output_type": "execute_result"
    }
   ],
   "source": [
    "N = 100\n",
    "teta = 60\n",
    "np.random.seed(44)\n",
    "X = np.random.randint(teta, 2*teta, N)\n",
    "X        "
   ]
  },
  {
   "cell_type": "markdown",
   "metadata": {},
   "source": [
    "### доверительный интервал"
   ]
  },
  {
   "cell_type": "code",
   "execution_count": 47,
   "metadata": {},
   "outputs": [],
   "source": [
    "beta = 0.95\n",
    "a = 1 - beta\n",
    "q = 1.96"
   ]
  },
  {
   "cell_type": "markdown",
   "metadata": {},
   "source": [
    "### точный"
   ]
  },
  {
   "cell_type": "code",
   "execution_count": 48,
   "metadata": {},
   "outputs": [
    {
     "name": "stdout",
     "output_type": "stream",
     "text": [
      "Точный интервал: [ 59.5075320478351 ,  60.59731720618941 ]\n"
     ]
    }
   ],
   "source": [
    "a = 0.05\n",
    "f1 = np.max(X)/(1+(1 - a/2)**(1/N))\n",
    "s1 = np.max(X)/(1+(a/2)**(1/N))\n",
    "print('Точный интервал: [',f , ', ',s, ']')"
   ]
  },
  {
   "cell_type": "markdown",
   "metadata": {},
   "source": [
    "### асимптотический"
   ]
  },
  {
   "cell_type": "code",
   "execution_count": 49,
   "metadata": {},
   "outputs": [
    {
     "name": "stdout",
     "output_type": "stream",
     "text": [
      "Интервал по ОММ: [ 59.5075320478351 ,  60.59731720618941 ]\n"
     ]
    }
   ],
   "source": [
    "score = 2/3*np.mean(X)\n",
    "f2 = score - q*2/3*np.sqrt(moment(X, 2) - np.mean(X))/10\n",
    "s2 = score - (-q)*2/3*np.sqrt(moment(X, 2) - np.mean(X))/10\n",
    "print('Интервал по ОММ: [',f , ', ',s, ']')"
   ]
  },
  {
   "cell_type": "markdown",
   "metadata": {},
   "source": [
    "### бутстраповский (непараметрический)"
   ]
  },
  {
   "cell_type": "code",
   "execution_count": 61,
   "metadata": {},
   "outputs": [],
   "source": [
    "M = np.array([])\n",
    "for i in range(1000):\n",
    "    M = np.append(M, 2/3*np.mean(np.random.choice(X, size = len(X))) - score)\n",
    "M = np.sort(M)"
   ]
  },
  {
   "cell_type": "code",
   "execution_count": 62,
   "metadata": {},
   "outputs": [
    {
     "name": "stdout",
     "output_type": "stream",
     "text": [
      "Бутстраповский интервал: [ 59.6 ,  63.66 ]\n"
     ]
    }
   ],
   "source": [
    "f3 = score + M[74]\n",
    "s3 = score + M[974]\n",
    "print('Бутстраповский интервал: [',f3 , ', ',s3, ']')"
   ]
  },
  {
   "cell_type": "markdown",
   "metadata": {},
   "source": [
    "### сравнение интервалов"
   ]
  },
  {
   "cell_type": "code",
   "execution_count": 63,
   "metadata": {},
   "outputs": [
    {
     "name": "stdout",
     "output_type": "stream",
     "text": [
      "точный:  1.0897851583543101\n",
      "асимптотический:  4.013786499686631\n",
      "бутстраповский:  4.059999999999995\n"
     ]
    }
   ],
   "source": [
    "print('точный: ', s1 - f1)\n",
    "print('асимптотический: ', s2 - f2)\n",
    "print('бутстраповский: ', s3 - f3)"
   ]
  },
  {
   "cell_type": "markdown",
   "metadata": {},
   "source": [
    "#### Точный интервал самый точный "
   ]
  },
  {
   "attachments": {},
   "cell_type": "markdown",
   "metadata": {},
   "source": [
    "<p><img src=\"https://infernal-duck.com/storage/daily-news/119/cH16MVSWgMTk9eTg.jpg\"></p>"
   ]
  }
 ],
 "metadata": {
  "kernelspec": {
   "display_name": "Python 3",
   "language": "python",
   "name": "python3"
  },
  "language_info": {
   "codemirror_mode": {
    "name": "ipython",
    "version": 3
   },
   "file_extension": ".py",
   "mimetype": "text/x-python",
   "name": "python",
   "nbconvert_exporter": "python",
   "pygments_lexer": "ipython3",
   "version": "3.8.5"
  }
 },
 "nbformat": 4,
 "nbformat_minor": 4
}
