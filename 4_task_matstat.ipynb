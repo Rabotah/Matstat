{
 "cells": [
  {
   "cell_type": "code",
   "execution_count": 59,
   "metadata": {},
   "outputs": [],
   "source": [
    "import numpy as np\n",
    "import matplotlib.pyplot as plt\n",
    "from scipy.stats import moment"
   ]
  },
  {
   "cell_type": "markdown",
   "metadata": {},
   "source": [
    "### выборка"
   ]
  },
  {
   "cell_type": "code",
   "execution_count": 60,
   "metadata": {},
   "outputs": [],
   "source": [
    "def val(y, teta):\n",
    "    return (1 - y)**(1/(1 - teta))"
   ]
  },
  {
   "cell_type": "code",
   "execution_count": 61,
   "metadata": {},
   "outputs": [
    {
     "name": "stdout",
     "output_type": "stream",
     "text": [
      "[1.8226373201887083, 1.0375905607351874, 1.5762169128147472, 1.1607000585994267, 1.1599809957593323, 1.36782131275836, 1.1815618842770024, 1.1916680434456353, 1.268350090523896, 1.5110351352914826, 2.936953791741334, 1.2254598274726092, 1.2044251687371765, 1.0409610809037344, 1.085373037468679, 2.8648941593146278, 2.6037655076069397, 2.0377797822539283, 1.4141655029685878, 1.0834949437056716, 1.401621704542635, 1.0512117544687127, 1.2270297131959247, 1.9939734895529329, 1.1048074139419148, 1.439640534884857, 1.9382781387089745, 1.0551907353032866, 1.3177194144818276, 1.0594847990966345, 1.0653192428349196, 1.0372920273683541, 1.0785390928580034, 1.2243853455796863, 1.694788502547863, 4.776334386739658, 1.7245186662209817, 1.1711176959413947, 1.273424001491042, 1.020441023328471, 1.512685548269508, 1.0254077136285527, 2.0423252966347207, 1.539738716123302, 1.8172400991595075, 1.511178854639087, 1.4895600148879682, 2.427616500931023, 2.0369095365001484, 1.0338225290695702, 1.2253661044730602, 1.2538678004539843, 1.0392095452291883, 1.0572177545300434, 3.992267501191677, 1.1113958445493852, 2.1343610662589554, 1.0616268126924588, 1.048463204382912, 1.1357115000118059, 1.1302570366511977, 1.2005250041321238, 1.1433797941694754, 1.3229111524717385, 1.033941614999303, 1.704250416335407, 1.1099229695194257, 2.2432609406247175, 2.1671066094743963, 1.005342514112686, 1.8977295696102485, 1.4553780028487115, 1.0128851563765666, 1.1310879844665351, 1.3190280543727089, 1.3505759274512328, 1.4632497322680618, 1.3960062607554835, 2.5362129818607504, 1.5610396243411346, 1.5766595851326295, 1.039175371350144, 1.254619937496109, 1.9578468636570894, 1.00616015893916, 1.0696513797472924, 1.0406544761717391, 1.8960697906232664, 1.0166936084264648, 1.2594417168416312, 1.2625271211711466, 1.619854672684901, 1.1529270193950412, 2.4430475419134186, 1.125822328129911, 1.3060495082828183, 1.0199558384794443, 1.3519419116128093, 1.4097058407450893, 1.5691889385046174]\n"
     ]
    }
   ],
   "source": [
    "N = 100\n",
    "teta = 4\n",
    "a = 0.05\n",
    "np.random.seed(44)\n",
    "X = [val(x, teta) for x in np.random.sample(N)]\n",
    "print(X)        "
   ]
  },
  {
   "cell_type": "code",
   "execution_count": 62,
   "metadata": {},
   "outputs": [
    {
     "name": "stdout",
     "output_type": "stream",
     "text": [
      "ОМП:  3.9643958452273016\n"
     ]
    }
   ],
   "source": [
    "score = N/np.sum(np.log(X)) + 1\n",
    "print('ОМП: ', score)"
   ]
  },
  {
   "cell_type": "markdown",
   "metadata": {},
   "source": [
    "### ДИ для медианы"
   ]
  },
  {
   "cell_type": "code",
   "execution_count": 63,
   "metadata": {},
   "outputs": [
    {
     "name": "stdout",
     "output_type": "stream",
     "text": [
      "Медиана:  1.2599\n"
     ]
    }
   ],
   "source": [
    "med = np.around(2**(1/(teta-1)), 4)\n",
    "print('Медиана: ', med)"
   ]
  },
  {
   "cell_type": "code",
   "execution_count": 64,
   "metadata": {},
   "outputs": [],
   "source": [
    "f1 = 2**(1/(score-1)) - 1.96*np.log(2)*2**(1/(score-1))/((score - 1)*10)\n",
    "s1 = 2**(1/(score-1)) + 1.96*np.log(2)*2**(1/(score-1))/((score - 1)*10)"
   ]
  },
  {
   "cell_type": "code",
   "execution_count": 65,
   "metadata": {},
   "outputs": [
    {
     "name": "stdout",
     "output_type": "stream",
     "text": [
      "Интервал для медианы: [ 1.2055 ,  1.3213 ]\n"
     ]
    }
   ],
   "source": [
    "print('Интервал для медианы: [', np.around(f1,4) , ', ', np.around(s1,4), ']')"
   ]
  },
  {
   "cell_type": "markdown",
   "metadata": {},
   "source": [
    "### ДИ байеса"
   ]
  },
  {
   "cell_type": "code",
   "execution_count": 66,
   "metadata": {},
   "outputs": [
    {
     "name": "stdout",
     "output_type": "stream",
     "text": [
      "Оценка Байеса:  1.7477547553169064\n"
     ]
    }
   ],
   "source": [
    "baes_score = 1/(np.mean(np.log(X))+1) + 1\n",
    "print('Оценка Байеса: ', baes_score)"
   ]
  },
  {
   "cell_type": "code",
   "execution_count": null,
   "metadata": {},
   "outputs": [],
   "source": []
  },
  {
   "cell_type": "code",
   "execution_count": null,
   "metadata": {},
   "outputs": [],
   "source": []
  },
  {
   "cell_type": "markdown",
   "metadata": {},
   "source": [
    "### ДИ асимптотический"
   ]
  },
  {
   "cell_type": "code",
   "execution_count": 67,
   "metadata": {},
   "outputs": [],
   "source": [
    "f3 = -1.96*(score-1)/10+score\n",
    "s3 = 1.96*(score-1)/10+score"
   ]
  },
  {
   "cell_type": "code",
   "execution_count": 68,
   "metadata": {},
   "outputs": [
    {
     "name": "stdout",
     "output_type": "stream",
     "text": [
      "Интервал по ОММ для теты: [ 3.3834 ,  4.5454 ]\n"
     ]
    }
   ],
   "source": [
    "print('Интервал по ОММ для теты: [', np.around(f3,4) , ', ', np.around(s3,4), ']')"
   ]
  },
  {
   "cell_type": "markdown",
   "metadata": {},
   "source": [
    "### ДИ бутстраповский (парам)"
   ]
  },
  {
   "cell_type": "code",
   "execution_count": 69,
   "metadata": {},
   "outputs": [],
   "source": [
    "def b_score(X, N):\n",
    "    return 1 + N / sum([np.log(x) for x in X])"
   ]
  },
  {
   "cell_type": "code",
   "execution_count": 70,
   "metadata": {},
   "outputs": [],
   "source": [
    "M = np.sort(np.array([b_score([val(x, teta) \n",
    "                                   for x in np.random.sample(N)], N) for i in range(50000)]))"
   ]
  },
  {
   "cell_type": "code",
   "execution_count": 71,
   "metadata": {},
   "outputs": [
    {
     "name": "stdout",
     "output_type": "stream",
     "text": [
      "Бутстраповский непараметрический интервал: [ 3.4894 ,  4.6868 ]\n"
     ]
    }
   ],
   "source": [
    "f4 = M[int(a/2*50000)]\n",
    "s4 = M[int((1-a/2)*50000)]\n",
    "print('Бутстраповский непараметрический интервал: [', np.around(f4,4) , ', ', np.around(s4,4), ']')"
   ]
  },
  {
   "cell_type": "markdown",
   "metadata": {},
   "source": [
    "### ДИ бутстраповский (непарам)"
   ]
  },
  {
   "cell_type": "code",
   "execution_count": 72,
   "metadata": {},
   "outputs": [],
   "source": [
    "M = np.array([])\n",
    "for i in range(1000):\n",
    "    M = np.append(M, N/np.sum(np.log((np.random.choice(X, size = len(X))))) + 1 -  score)\n",
    "M = np.sort(M)"
   ]
  },
  {
   "cell_type": "code",
   "execution_count": 73,
   "metadata": {},
   "outputs": [
    {
     "name": "stdout",
     "output_type": "stream",
     "text": [
      "Бутстраповский непараметрический интервал: [ 3.6252 ,  4.6041 ]\n"
     ]
    }
   ],
   "source": [
    "f5 = score + M[74]\n",
    "s5 = score + M[974]\n",
    "print('Бутстраповский непараметрический интервал: [', np.around(f5,4) , ', ', np.around(s5,4), ']')"
   ]
  },
  {
   "cell_type": "markdown",
   "metadata": {},
   "source": [
    "### сравнение интервалов"
   ]
  },
  {
   "cell_type": "code",
   "execution_count": 76,
   "metadata": {},
   "outputs": [
    {
     "name": "stdout",
     "output_type": "stream",
     "text": [
      "асимптотический:  1.1620431713291017\n",
      "параметрический бутстраповский:  1.1973789307507676\n",
      "непараметрический бутстраповский:  0.9788832731997994\n"
     ]
    }
   ],
   "source": [
    "print('асимптотический: ', s2 - f2)\n",
    "print('параметрический бутстраповский: ', s4 - f4)\n",
    "print('непараметрический бутстраповский: ', s5 - f5)"
   ]
  },
  {
   "cell_type": "markdown",
   "metadata": {},
   "source": [
    "### пока лидирует непараметрический бутстрап"
   ]
  }
 ],
 "metadata": {
  "kernelspec": {
   "display_name": "Python 3",
   "language": "python",
   "name": "python3"
  },
  "language_info": {
   "codemirror_mode": {
    "name": "ipython",
    "version": 3
   },
   "file_extension": ".py",
   "mimetype": "text/x-python",
   "name": "python",
   "nbconvert_exporter": "python",
   "pygments_lexer": "ipython3",
   "version": "3.8.5"
  }
 },
 "nbformat": 4,
 "nbformat_minor": 4
}
